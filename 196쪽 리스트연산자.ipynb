{
 "cells": [
  {
   "cell_type": "code",
   "execution_count": 1,
   "metadata": {},
   "outputs": [
    {
     "name": "stdout",
     "output_type": "stream",
     "text": [
      "# 리스트\n",
      "list_a = [1, 2, 3]\n",
      "list_b = [4, 5, 6]\n",
      "\n",
      "# 리스트 기본 연산자\n",
      "list_a + list_b = [1, 2, 3, 4, 5, 6]\n",
      "list_a * 3 = [1, 2, 3, 1, 2, 3, 1, 2, 3]\n",
      "\n",
      "# 길이 구하기\n",
      "len(list_a) = 3\n"
     ]
    }
   ],
   "source": [
    "list_a = [1, 2, 3]\n",
    "list_b = [4, 5, 6]\n",
    "\n",
    "print(\"# 리스트\")\n",
    "print(\"list_a =\", list_a)\n",
    "print(\"list_b =\", list_b)\n",
    "print()\n",
    "\n",
    "# 기본 연산자\n",
    "print(\"# 리스트 기본 연산자\")\n",
    "print(\"list_a + list_b =\", list_a + list_b)\n",
    "print(\"list_a * 3 =\", list_a * 3)\n",
    "print()\n",
    "\n",
    "# 함수\n",
    "print(\"# 길이 구하기\")\n",
    "print(\"len(list_a) =\", len(list_a))"
   ]
  }
 ],
 "metadata": {
  "kernelspec": {
   "display_name": "Python 3",
   "language": "python",
   "name": "python3"
  },
  "language_info": {
   "codemirror_mode": {
    "name": "ipython",
    "version": 3
   },
   "file_extension": ".py",
   "mimetype": "text/x-python",
   "name": "python",
   "nbconvert_exporter": "python",
   "pygments_lexer": "ipython3",
   "version": "3.11.0"
  },
  "orig_nbformat": 4
 },
 "nbformat": 4,
 "nbformat_minor": 2
}
