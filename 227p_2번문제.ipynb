{
 "cells": [
  {
   "cell_type": "code",
   "execution_count": 4,
   "metadata": {},
   "outputs": [
    {
     "name": "stdout",
     "output_type": "stream",
     "text": [
      "#우리 동네 애완 동물들\n",
      "구름 5살\n",
      "초코 3살\n",
      "아지 1살\n",
      "호랑이 1살\n"
     ]
    }
   ],
   "source": [
    "pets = [\n",
    "    {\"name\" : \"구름\", \"age\" : 5},\n",
    "    {\"name\" : \"초코\", \"age\" : 3},\n",
    "    {\"name\" : \"아지\", \"age\" : 1},\n",
    "    {\"name\" : \"호랑이\", \"age\" : 1}\n",
    "]\n",
    "print(\"#우리 동네 애완 동물들\")\n",
    "\n",
    "for i in pets:\n",
    "    print(f\"{i['name']} {i['age']}살\")\n"
   ]
  }
 ],
 "metadata": {
  "kernelspec": {
   "display_name": "Python 3",
   "language": "python",
   "name": "python3"
  },
  "language_info": {
   "codemirror_mode": {
    "name": "ipython",
    "version": 3
   },
   "file_extension": ".py",
   "mimetype": "text/x-python",
   "name": "python",
   "nbconvert_exporter": "python",
   "pygments_lexer": "ipython3",
   "version": "3.11.0"
  },
  "orig_nbformat": 4
 },
 "nbformat": 4,
 "nbformat_minor": 2
}
