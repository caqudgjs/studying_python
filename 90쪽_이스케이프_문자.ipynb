{
 "cells": [
  {
   "cell_type": "code",
   "execution_count": 1,
   "metadata": {},
   "outputs": [
    {
     "name": "stdout",
     "output_type": "stream",
     "text": [
      "이름\t나이\t지역\n",
      "윤인성\t25\t강서구\n",
      "윤아린\t24\t강서구\n",
      "구름\t3\t강서구\n"
     ]
    }
   ],
   "source": [
    "print(\"이름\\t나이\\t지역\")\n",
    "print(\"윤인성\\t25\\t강서구\")\n",
    "print(\"윤아린\\t24\\t강서구\")\n",
    "print(\"구름\\t3\\t강서구\")"
   ]
  },
  {
   "cell_type": "code",
   "execution_count": null,
   "metadata": {},
   "outputs": [],
   "source": []
  }
 ],
 "metadata": {
  "kernelspec": {
   "display_name": "Python 3",
   "language": "python",
   "name": "python3"
  },
  "language_info": {
   "codemirror_mode": {
    "name": "ipython",
    "version": 3
   },
   "file_extension": ".py",
   "mimetype": "text/x-python",
   "name": "python",
   "nbconvert_exporter": "python",
   "pygments_lexer": "ipython3",
   "version": "3.11.0"
  },
  "orig_nbformat": 4
 },
 "nbformat": 4,
 "nbformat_minor": 2
}
