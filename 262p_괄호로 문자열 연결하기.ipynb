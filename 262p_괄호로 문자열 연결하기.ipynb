{
 "cells": [
  {
   "cell_type": "code",
   "execution_count": 1,
   "metadata": {},
   "outputs": [
    {
     "name": "stdout",
     "output_type": "stream",
     "text": [
      "test: 이렇게 입력해도 하나의 문자열로 연결되어 생성됩니다.\n",
      "type(test): <class 'str'>\n"
     ]
    }
   ],
   "source": [
    "test =  (\n",
    "    \"이렇게 입력해도 \"\n",
    "    \"하나의 문자열로 연결되어 \"\n",
    "    \"생성됩니다.\"\n",
    ")\n",
    "\n",
    "print(\"test:\", test)\n",
    "print(\"type(test):\", type(test))"
   ]
  },
  {
   "cell_type": "code",
   "execution_count": null,
   "metadata": {},
   "outputs": [],
   "source": []
  }
 ],
 "metadata": {
  "kernelspec": {
   "display_name": "Python 3",
   "language": "python",
   "name": "python3"
  },
  "language_info": {
   "codemirror_mode": {
    "name": "ipython",
    "version": 3
   },
   "file_extension": ".py",
   "mimetype": "text/x-python",
   "name": "python",
   "nbconvert_exporter": "python",
   "pygments_lexer": "ipython3",
   "version": "3.11.0"
  },
  "orig_nbformat": 4
 },
 "nbformat": 4,
 "nbformat_minor": 2
}
