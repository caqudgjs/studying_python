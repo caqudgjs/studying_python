{
 "cells": [
  {
   "cell_type": "code",
   "execution_count": 1,
   "metadata": {},
   "outputs": [
    {
     "name": "stdout",
     "output_type": "stream",
     "text": [
      "# 현재 시각 출력하기\n",
      "2023 년\n",
      "6 월\n",
      "4 일\n",
      "16 시\n",
      "50 분\n",
      "31 초\n",
      "\n",
      "# 시간을 포맷에 맞춰 출력하기\n",
      "2023.06.04 16:50:31\n",
      "2023년 6월 4일 16시 50분 31초\n",
      "2023년 06월 04일 16시 50분 31초\n",
      "\n"
     ]
    }
   ],
   "source": [
    "import datetime\n",
    "\n",
    "print(\"# 현재 시각 출력하기\")\n",
    "now = datetime.datetime.now()\n",
    "\n",
    "print(now.year, \"년\")\n",
    "print(now.month, \"월\")\n",
    "print(now.day, \"일\")\n",
    "print(now.hour, \"시\")\n",
    "print(now.minute, \"분\")\n",
    "print(now.second, \"초\")\n",
    "print()\n",
    "\n",
    "print(\"# 시간을 포맷에 맞춰 출력하기\")\n",
    "output_a = now.strftime(\"%Y.%m.%d %H:%M:%S\")\n",
    "output_b = \"{}년 {}월 {}일 {}시 {}분 {}초\".format(now.year, \\\n",
    "                                            now.month, \\\n",
    "                                            now.day, \\\n",
    "                                            now.hour, \\\n",
    "                                            now.minute, \\\n",
    "                                            now.second)\n",
    "output_c = now.strftime(\"%Y{} %m{} %d{} %H{} %M{} %S{}\").format(*\"년월일시분초\")\n",
    "\n",
    "print(output_a)\n",
    "print(output_b)\n",
    "print(output_c)\n",
    "print()"
   ]
  }
 ],
 "metadata": {
  "kernelspec": {
   "display_name": "Python 3",
   "language": "python",
   "name": "python3"
  },
  "language_info": {
   "codemirror_mode": {
    "name": "ipython",
    "version": 3
   },
   "file_extension": ".py",
   "mimetype": "text/x-python",
   "name": "python",
   "nbconvert_exporter": "python",
   "pygments_lexer": "ipython3",
   "version": "3.11.0"
  },
  "orig_nbformat": 4
 },
 "nbformat": 4,
 "nbformat_minor": 2
}
