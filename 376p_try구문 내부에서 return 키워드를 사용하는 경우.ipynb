{
 "cells": [
  {
   "cell_type": "code",
   "execution_count": 1,
   "metadata": {},
   "outputs": [
    {
     "name": "stdout",
     "output_type": "stream",
     "text": [
      "test() 함수의 첫 줄입니다.\n",
      "try 구문이 실행되었습니다.\n",
      "finally 구문이 실행되었습니다.\n"
     ]
    }
   ],
   "source": [
    "def test():\n",
    "    print(\"test() 함수의 첫 줄입니다.\")\n",
    "    try:\n",
    "        print(\"try 구문이 실행되었습니다.\")\n",
    "        return\n",
    "        print(\"try 구문의 return 키워드 뒤입니다.\")\n",
    "    except:\n",
    "        print(\"except 구문이 실행되었습니다.\")\n",
    "    else:\n",
    "        print(\"else 구문이 실행되었습니다.\")\n",
    "    finally:\n",
    "        print(\"finally 구문이 실행되었습니다.\")\n",
    "    print(\"test() 함수의 마지막 줄입니다.\")\n",
    "\n",
    "test()"
   ]
  }
 ],
 "metadata": {
  "kernelspec": {
   "display_name": "Python 3",
   "language": "python",
   "name": "python3"
  },
  "language_info": {
   "codemirror_mode": {
    "name": "ipython",
    "version": 3
   },
   "file_extension": ".py",
   "mimetype": "text/x-python",
   "name": "python",
   "nbconvert_exporter": "python",
   "pygments_lexer": "ipython3",
   "version": "3.11.0"
  },
  "orig_nbformat": 4
 },
 "nbformat": 4,
 "nbformat_minor": 2
}
