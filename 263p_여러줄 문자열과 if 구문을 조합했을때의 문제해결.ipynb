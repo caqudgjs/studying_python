{
 "cells": [
  {
   "cell_type": "code",
   "execution_count": 2,
   "metadata": {},
   "outputs": [
    {
     "name": "stdout",
     "output_type": "stream",
     "text": [
      "입력한 문자열은 4입니다.\n",
      "4는(은) 짝수입니다.\n"
     ]
    }
   ],
   "source": [
    "number =  int(input(\"정수를 입력 > \"))\n",
    "\n",
    "if number % 2 == 0:\n",
    "    print((\"입력한 문자열은 {}입니다.\\n\"\n",
    "\"{}는(은) 짝수입니다.\").format(number, number))\n",
    "else:\n",
    "    print(\"입력한 문자열은 {}입니다.\\n\" \n",
    "    \"{}는(은) 홀수입니다.\".format(number, number))"
   ]
  }
 ],
 "metadata": {
  "kernelspec": {
   "display_name": "Python 3",
   "language": "python",
   "name": "python3"
  },
  "language_info": {
   "codemirror_mode": {
    "name": "ipython",
    "version": 3
   },
   "file_extension": ".py",
   "mimetype": "text/x-python",
   "name": "python",
   "nbconvert_exporter": "python",
   "pygments_lexer": "ipython3",
   "version": "3.11.0"
  },
  "orig_nbformat": 4
 },
 "nbformat": 4,
 "nbformat_minor": 2
}
