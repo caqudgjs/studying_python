{
 "cells": [
  {
   "cell_type": "code",
   "execution_count": 1,
   "metadata": {},
   "outputs": [
    {
     "name": "stdout",
     "output_type": "stream",
     "text": [
      "fibonacci(1) =  1\n",
      "fibonacci(2) =  1\n",
      "fibonacci(3) =  2\n",
      "fibonacci(4) =  3\n",
      "fibonacci(5) =  5\n"
     ]
    }
   ],
   "source": [
    "def fibonacci(n):\n",
    "    if n == 1:\n",
    "        return 1\n",
    "    elif n == 2:\n",
    "        return 1\n",
    "    else:\n",
    "        return fibonacci(n-1) + fibonacci(n-2)\n",
    "\n",
    "print(\"fibonacci(1) = \", fibonacci(1))\n",
    "print(\"fibonacci(2) = \", fibonacci(2))\n",
    "print(\"fibonacci(3) = \", fibonacci(3))\n",
    "print(\"fibonacci(4) = \", fibonacci(4))\n",
    "print(\"fibonacci(5) = \", fibonacci(5))\n"
   ]
  }
 ],
 "metadata": {
  "kernelspec": {
   "display_name": "Python 3",
   "language": "python",
   "name": "python3"
  },
  "language_info": {
   "codemirror_mode": {
    "name": "ipython",
    "version": 3
   },
   "file_extension": ".py",
   "mimetype": "text/x-python",
   "name": "python",
   "nbconvert_exporter": "python",
   "pygments_lexer": "ipython3",
   "version": "3.11.0"
  },
  "orig_nbformat": 4
 },
 "nbformat": 4,
 "nbformat_minor": 2
}
