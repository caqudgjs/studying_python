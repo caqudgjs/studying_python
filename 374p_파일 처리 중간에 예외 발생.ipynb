{
 "cells": [
  {
   "cell_type": "code",
   "execution_count": 1,
   "metadata": {},
   "outputs": [
    {
     "name": "stdout",
     "output_type": "stream",
     "text": [
      "오류가 발생했습니다.\n",
      "# 파일이 제대로 닫혔는지 확인하기\n",
      "file.closed: False\n"
     ]
    }
   ],
   "source": [
    "try:\n",
    "    file = open(\"info.txt\", \"w\")\n",
    "    예외.발생해라()\n",
    "    file.close()\n",
    "except:\n",
    "    print(\"오류가 발생했습니다.\")\n",
    "\n",
    "print(\"# 파일이 제대로 닫혔는지 확인하기\")\n",
    "print(\"file.closed:\", file.closed)\n"
   ]
  }
 ],
 "metadata": {
  "kernelspec": {
   "display_name": "Python 3",
   "language": "python",
   "name": "python3"
  },
  "language_info": {
   "codemirror_mode": {
    "name": "ipython",
    "version": 3
   },
   "file_extension": ".py",
   "mimetype": "text/x-python",
   "name": "python",
   "nbconvert_exporter": "python",
   "pygments_lexer": "ipython3",
   "version": "3.11.0"
  },
  "orig_nbformat": 4
 },
 "nbformat": 4,
 "nbformat_minor": 2
}
