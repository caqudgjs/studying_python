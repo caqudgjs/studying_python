{
 "cells": [
  {
   "cell_type": "code",
   "execution_count": 1,
   "metadata": {},
   "outputs": [
    {
     "name": "stdout",
     "output_type": "stream",
     "text": [
      "ㅎㅇ\n"
     ]
    }
   ],
   "source": [
    "import datetime\n",
    "\n",
    "입력 = input(\"입력\")\n",
    "\n",
    "if \"안녕\" in 입력:\n",
    "    print(\"안녕하세요\")\n",
    "elif \"몇 시\" in 입력:\n",
    "    print(datetime.datetime.now())\n",
    "    print(f\"지금은 {now.hour}시입니다.\")\n",
    "else:\n",
    "    print(입력)"
   ]
  }
 ],
 "metadata": {
  "kernelspec": {
   "display_name": "Python 3",
   "language": "python",
   "name": "python3"
  },
  "language_info": {
   "codemirror_mode": {
    "name": "ipython",
    "version": 3
   },
   "file_extension": ".py",
   "mimetype": "text/x-python",
   "name": "python",
   "nbconvert_exporter": "python",
   "pygments_lexer": "ipython3",
   "version": "3.11.0"
  },
  "orig_nbformat": 4
 },
 "nbformat": 4,
 "nbformat_minor": 2
}
