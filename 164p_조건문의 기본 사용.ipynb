{
 "cells": [
  {
   "cell_type": "code",
   "execution_count": 38,
   "metadata": {},
   "outputs": [
    {
     "name": "stdout",
     "output_type": "stream",
     "text": [
      "양수입니다.\n",
      "음수입니다.\n",
      "0입니다.\n"
     ]
    }
   ],
   "source": [
    "number = input(\"정수입력> \")\n",
    "number = int(number)\n",
    "\n",
    "if number > 0:\n",
    "    print(\"양수입니다.\")\n",
    "if number < 0:\n",
    "    print(\"음수입니다.\")\n",
    "if number == 0:\n",
    "    print(\"0입니다.\")\n",
    "    \n",
    "number = input(\"정수입력> \")\n",
    "number = int(number)\n",
    "\n",
    "if number > 0:\n",
    "    print(\"양수입니다.\")\n",
    "if number < 0:\n",
    "    print(\"음수입니다.\")\n",
    "if number == 0:\n",
    "    print(\"0입니다.\")\n",
    "    \n",
    "number = input(\"정수입력> \")\n",
    "number = int(number)\n",
    "\n",
    "if number > 0:\n",
    "    print(\"양수입니다.\")\n",
    "if number < 0:\n",
    "    print(\"음수입니다.\")\n",
    "if number == 0:\n",
    "    print(\"0입니다.\")\n",
    "        "
   ]
  },
  {
   "cell_type": "code",
   "execution_count": null,
   "metadata": {},
   "outputs": [],
   "source": []
  }
 ],
 "metadata": {
  "kernelspec": {
   "display_name": "Python 3",
   "language": "python",
   "name": "python3"
  },
  "language_info": {
   "codemirror_mode": {
    "name": "ipython",
    "version": 3
   },
   "file_extension": ".py",
   "mimetype": "text/x-python",
   "name": "python",
   "nbconvert_exporter": "python",
   "pygments_lexer": "ipython3",
   "version": "3.11.3"
  },
  "orig_nbformat": 4,
  "vscode": {
   "interpreter": {
    "hash": "5238573367df39f7286bb46f9ff5f08f63a01a80960060ce41e3c79b190280fa"
   }
  }
 },
 "nbformat": 4,
 "nbformat_minor": 2
}
