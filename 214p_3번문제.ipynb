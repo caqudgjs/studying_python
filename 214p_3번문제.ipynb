{
 "cells": [
  {
   "cell_type": "code",
   "execution_count": 1,
   "metadata": {},
   "outputs": [
    {
     "name": "stdout",
     "output_type": "stream",
     "text": [
      "273는 홀수입니다.\n",
      "103는 홀수입니다.\n",
      "5는 홀수입니다.\n",
      "32는 짝수입니다.\n",
      "65는 홀수입니다.\n",
      "9는 홀수입니다.\n",
      "72는 짝수입니다.\n",
      "800는 짝수입니다.\n",
      "99는 홀수입니다.\n"
     ]
    }
   ],
   "source": [
    "numbers = [273, 103, 5, 32, 65, 9, 72, 800, 99]\n",
    "for number in numbers:\n",
    "    if number%2==0:\n",
    "        print(\"{}는 짝수입니다.\".format(number))\n",
    "    else:\n",
    "        print(\"{}는 홀수입니다.\".format(number))\n"
   ]
  },
  {
   "cell_type": "code",
   "execution_count": 2,
   "metadata": {},
   "outputs": [
    {
     "name": "stdout",
     "output_type": "stream",
     "text": [
      "273는 3자리수입니다.\n",
      "103는 3자리수입니다.\n",
      "5는 1자리수입니다.\n",
      "32는 2자리수입니다.\n",
      "65는 2자리수입니다.\n",
      "9는 1자리수입니다.\n",
      "72는 2자리수입니다.\n",
      "800는 3자리수입니다.\n",
      "99는 2자리수입니다.\n"
     ]
    }
   ],
   "source": [
    "numbers = [273, 103, 5, 32, 65, 9, 72, 800, 99]\n",
    "for number in numbers:\n",
    "    num_str = str(number)\n",
    "    str_len = len(num_str)\n",
    "    print(\"{}는 {}자리수입니다.\".format(number, str_len))"
   ]
  },
  {
   "cell_type": "code",
   "execution_count": null,
   "metadata": {},
   "outputs": [],
   "source": []
  }
 ],
 "metadata": {
  "kernelspec": {
   "display_name": "Python 3",
   "language": "python",
   "name": "python3"
  },
  "language_info": {
   "codemirror_mode": {
    "name": "ipython",
    "version": 3
   },
   "file_extension": ".py",
   "mimetype": "text/x-python",
   "name": "python",
   "nbconvert_exporter": "python",
   "pygments_lexer": "ipython3",
   "version": "3.11.3"
  },
  "orig_nbformat": 4,
  "vscode": {
   "interpreter": {
    "hash": "5238573367df39f7286bb46f9ff5f08f63a01a80960060ce41e3c79b190280fa"
   }
  }
 },
 "nbformat": 4,
 "nbformat_minor": 2
}
