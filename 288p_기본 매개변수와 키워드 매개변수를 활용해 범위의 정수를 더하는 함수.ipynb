{
 "cells": [
  {
   "cell_type": "code",
   "execution_count": 1,
   "metadata": {},
   "outputs": [
    {
     "name": "stdout",
     "output_type": "stream",
     "text": [
      "A. 550\n",
      "B. 5050\n",
      "C. 2550\n"
     ]
    }
   ],
   "source": [
    "def sum_all(start=0, end=100, step=1):\n",
    "    output = 0\n",
    "    for i in range(start, end + 1, step):\n",
    "        output = 0\n",
    "        for i in range(start, end + 1, step):\n",
    "            output += i\n",
    "        return output\n",
    "\n",
    "\n",
    "print(\"A.\", sum_all(0, 100, 10))\n",
    "print(\"B.\", sum_all(end=100))\n",
    "print(\"C.\", sum_all(end=100, step=2))"
   ]
  }
 ],
 "metadata": {
  "kernelspec": {
   "display_name": "Python 3",
   "language": "python",
   "name": "python3"
  },
  "language_info": {
   "codemirror_mode": {
    "name": "ipython",
    "version": 3
   },
   "file_extension": ".py",
   "mimetype": "text/x-python",
   "name": "python",
   "nbconvert_exporter": "python",
   "pygments_lexer": "ipython3",
   "version": "3.11.0"
  },
  "orig_nbformat": 4
 },
 "nbformat": 4,
 "nbformat_minor": 2
}
