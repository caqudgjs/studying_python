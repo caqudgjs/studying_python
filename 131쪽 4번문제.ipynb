{
 "cells": [
  {
   "cell_type": "code",
   "execution_count": 1,
   "metadata": {},
   "outputs": [
    {
     "name": "stdout",
     "output_type": "stream",
     "text": [
      "\n",
      "1 inch\n",
      "2.54 cm\n"
     ]
    }
   ],
   "source": [
    "str_input = input(\"숫자 입력>\")\n",
    "num_input = int(str_input)\n",
    "\n",
    "print()\n",
    "print(num_input, \"inch\")\n",
    "print(num_input * 2.54, \"cm\")"
   ]
  },
  {
   "cell_type": "code",
   "execution_count": 3,
   "metadata": {},
   "outputs": [
    {
     "name": "stdout",
     "output_type": "stream",
     "text": [
      "\n",
      "26 inch\n",
      "66.04 cm\n"
     ]
    }
   ],
   "source": [
    "str_input = input(\"숫자 입력>\")\n",
    "num_input = int(str_input)\n",
    "\n",
    "print()\n",
    "print(num_input, \"inch\")\n",
    "print(num_input * 2.54, \"cm\")"
   ]
  },
  {
   "cell_type": "code",
   "execution_count": null,
   "metadata": {},
   "outputs": [],
   "source": []
  }
 ],
 "metadata": {
  "kernelspec": {
   "display_name": "Python 3",
   "language": "python",
   "name": "python3"
  },
  "language_info": {
   "codemirror_mode": {
    "name": "ipython",
    "version": 3
   },
   "file_extension": ".py",
   "mimetype": "text/x-python",
   "name": "python",
   "nbconvert_exporter": "python",
   "pygments_lexer": "ipython3",
   "version": "3.11.0"
  },
  "orig_nbformat": 4
 },
 "nbformat": 4,
 "nbformat_minor": 2
}
