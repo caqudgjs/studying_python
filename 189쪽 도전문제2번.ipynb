{
 "cells": [
  {
   "cell_type": "code",
   "execution_count": null,
   "metadata": {},
   "outputs": [],
   "source": [
    "입력 = int(input(\"정수를 입력해주세요: \"))\n",
    "\n",
    "if 입력 % 2 == 0:\n",
    "    print(f\"{입력}은 2로 나누어 떨어지는 숫자입니다.\")\n",
    "else:\n",
    "    print(f\"{입력}은 2로 나누어 떨어지지 않는 숫자입니다.\")\n",
    "\n",
    "if 입력 % 3 == 0:\n",
    "    print(f\"{입력}은 3으로 나누어 떨어지는 숫자입니다.\")\n",
    "else:\n",
    "    print(f\"{입력}은 3으로 나누어 떨어지지 않는 숫자입니다.\")\n",
    "\n",
    "if 입력 % 4 == 0:\n",
    "    print(f\"{입력}은 4로 나누어 떨어지는 숫자입니다.\")\n",
    "else:\n",
    "    print(f\"{입력}은 4로 나누어 떨어지지 않는 숫자입니다.\")\n",
    "\n",
    "if 입력 % 5 == 0:\n",
    "    print(f\"{입력}은 5로 나누어 떨어지는 숫자입니다.\")\n",
    "else:\n",
    "    print(f\"{입력}은 5로 나누어 떨어지지 않는 숫자입니다.\")"
   ]
  }
 ],
 "metadata": {
  "kernelspec": {
   "display_name": "Python 3",
   "language": "python",
   "name": "python3"
  },
  "language_info": {
   "codemirror_mode": {
    "name": "ipython",
    "version": 3
   },
   "file_extension": ".py",
   "mimetype": "text/x-python",
   "name": "python",
   "nbconvert_exporter": "python",
   "pygments_lexer": "ipython3",
   "version": "3.11.0"
  },
  "orig_nbformat": 4
 },
 "nbformat": 4,
 "nbformat_minor": 2
}
