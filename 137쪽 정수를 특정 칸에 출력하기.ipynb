{
 "cells": [
  {
   "cell_type": "code",
   "execution_count": 1,
   "metadata": {},
   "outputs": [
    {
     "name": "stdout",
     "output_type": "stream",
     "text": [
      "# 기본\n",
      "52\n",
      "# 특정 칸에 출력하기\n",
      "   52\n",
      "        52\n",
      "# 빈칸을 0으로 채우기\n",
      "00052\n",
      "-0052\n"
     ]
    }
   ],
   "source": [
    "output_a = \"{:d}\".format(52)\n",
    "output_b = \"{:5d}\".format(52)\n",
    "output_c = \"{:10d}\".format(52)\n",
    "output_d = \"{:05d}\".format(52)\n",
    "output_e = \"{:05d}\".format(-52)\n",
    "\n",
    "print(\"# 기본\")\n",
    "print(output_a)\n",
    "print(\"# 특정 칸에 출력하기\")\n",
    "print(output_b)\n",
    "print(output_c)\n",
    "print(\"# 빈칸을 0으로 채우기\")\n",
    "print(output_d)\n",
    "print(output_e)"
   ]
  },
  {
   "cell_type": "code",
   "execution_count": null,
   "metadata": {},
   "outputs": [],
   "source": []
  }
 ],
 "metadata": {
  "kernelspec": {
   "display_name": "Python 3",
   "language": "python",
   "name": "python3"
  },
  "language_info": {
   "codemirror_mode": {
    "name": "ipython",
    "version": 3
   },
   "file_extension": ".py",
   "mimetype": "text/x-python",
   "name": "python",
   "nbconvert_exporter": "python",
   "pygments_lexer": "ipython3",
   "version": "3.11.0"
  },
  "orig_nbformat": 4
 },
 "nbformat": 4,
 "nbformat_minor": 2
}
