{
 "cells": [
  {
   "cell_type": "code",
   "execution_count": 3,
   "metadata": {},
   "outputs": [
    {
     "name": "stdout",
     "output_type": "stream",
     "text": [
      "#홀수만 추출하기\n",
      "[1, 3, 5, 7, 9]\n",
      "#3 이상, 7 미만 추출하기\n",
      "[3, 4, 5, 6]\n",
      "#제곱해서 50 미만 추출하기\n",
      "[1, 2, 3, 4, 5, 6, 7]\n"
     ]
    }
   ],
   "source": [
    "numbers = list(range(1, 10 + 1))\n",
    "\n",
    "print(\"#홀수만 추출하기\")\n",
    "print(list(filter(lambda x: x % 2 == 1, numbers)))\n",
    "print(\"#3 이상, 7 미만 추출하기\")\n",
    "print(list(filter(lambda x: 3 <= x < 7, numbers)))\n",
    "print(\"#제곱해서 50 미만 추출하기\")\n",
    "print(list(filter(lambda x: x ** 2 < 50, numbers)))\n"
   ]
  },
  {
   "cell_type": "code",
   "execution_count": null,
   "metadata": {},
   "outputs": [],
   "source": []
  }
 ],
 "metadata": {
  "kernelspec": {
   "display_name": "Python 3",
   "language": "python",
   "name": "python3"
  },
  "language_info": {
   "codemirror_mode": {
    "name": "ipython",
    "version": 3
   },
   "file_extension": ".py",
   "mimetype": "text/x-python",
   "name": "python",
   "nbconvert_exporter": "python",
   "pygments_lexer": "ipython3",
   "version": "3.11.0"
  },
  "orig_nbformat": 4
 },
 "nbformat": 4,
 "nbformat_minor": 2
}
