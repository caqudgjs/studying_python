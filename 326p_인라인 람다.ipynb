{
 "cells": [
  {
   "cell_type": "code",
   "execution_count": 1,
   "metadata": {},
   "outputs": [
    {
     "name": "stdout",
     "output_type": "stream",
     "text": [
      "# map() 함수의 실행결과\n",
      "map(power, list_input_a): <map object at 0x000001DE7AB26680>\n",
      "map(power, list_input_a): [1, 4, 9, 16, 25]\n",
      "\n",
      "# filter() 함수의 실행결과\n",
      "filter(under_3, list_input_a): <filter object at 0x000001DE7AB26320>\n",
      "filter(under_3, list_input_a): [1, 2]\n"
     ]
    }
   ],
   "source": [
    "list_input_a = [1, 2, 3, 4, 5]\n",
    "\n",
    "\n",
    "ouput_a = map(lambda x: x * x, list_input_a)\n",
    "print(\"# map() 함수의 실행결과\")\n",
    "print(\"map(power, list_input_a):\", ouput_a)\n",
    "print(\"map(power, list_input_a):\", list(ouput_a))\n",
    "print()\n",
    "\n",
    "output_b = filter(lambda x: x < 3, list_input_a)\n",
    "print(\"# filter() 함수의 실행결과\")\n",
    "print(\"filter(under_3, list_input_a):\", output_b)\n",
    "print(\"filter(under_3, list_input_a):\", list(output_b))"
   ]
  },
  {
   "cell_type": "code",
   "execution_count": null,
   "metadata": {},
   "outputs": [],
   "source": []
  }
 ],
 "metadata": {
  "kernelspec": {
   "display_name": "Python 3",
   "language": "python",
   "name": "python3"
  },
  "language_info": {
   "codemirror_mode": {
    "name": "ipython",
    "version": 3
   },
   "file_extension": ".py",
   "mimetype": "text/x-python",
   "name": "python",
   "nbconvert_exporter": "python",
   "pygments_lexer": "ipython3",
   "version": "3.11.0"
  },
  "orig_nbformat": 4
 },
 "nbformat": 4,
 "nbformat_minor": 2
}
