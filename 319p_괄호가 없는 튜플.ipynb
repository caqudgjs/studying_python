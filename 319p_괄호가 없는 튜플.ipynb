{
 "cells": [
  {
   "cell_type": "code",
   "execution_count": 1,
   "metadata": {},
   "outputs": [
    {
     "name": "stdout",
     "output_type": "stream",
     "text": [
      "#괄호가 없는 튜플의 값과 자료형 출력\n",
      "tuple_test: (10, 20, 30, 40)\n",
      "type(tuple_test): <class 'tuple'>\n",
      "\n",
      "#괄호가 없는 튜플을 활용한 할당\n",
      "a: 10\n",
      "b: 20\n",
      "c: 30\n"
     ]
    }
   ],
   "source": [
    "tuple_test = 10, 20, 30, 40\n",
    "print(\"#괄호가 없는 튜플의 값과 자료형 출력\")\n",
    "print(\"tuple_test:\", tuple_test)\n",
    "print(\"type(tuple_test):\", type(tuple_test))\n",
    "print()\n",
    "\n",
    "a, b, c = 10, 20, 30\n",
    "print(\"#괄호가 없는 튜플을 활용한 할당\")\n",
    "print(\"a:\", a)\n",
    "print(\"b:\", b)\n",
    "print(\"c:\", c)"
   ]
  }
 ],
 "metadata": {
  "kernelspec": {
   "display_name": "Python 3",
   "language": "python",
   "name": "python3"
  },
  "language_info": {
   "codemirror_mode": {
    "name": "ipython",
    "version": 3
   },
   "file_extension": ".py",
   "mimetype": "text/x-python",
   "name": "python",
   "nbconvert_exporter": "python",
   "pygments_lexer": "ipython3",
   "version": "3.11.0"
  },
  "orig_nbformat": 4
 },
 "nbformat": 4,
 "nbformat_minor": 2
}
