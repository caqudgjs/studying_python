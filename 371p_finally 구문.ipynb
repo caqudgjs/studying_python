{
 "cells": [
  {
   "cell_type": "code",
   "execution_count": 1,
   "metadata": {},
   "outputs": [
    {
     "name": "stdout",
     "output_type": "stream",
     "text": [
      "원의 반지름: 273\n",
      "원의 둘레: 1714.44\n",
      "원의 넓이: 234021.06\n",
      "예외가 발생하지 않았습니다.\n",
      "프로그램을 종료합니다.\n"
     ]
    }
   ],
   "source": [
    "try:\n",
    "    number_input_a = int(input(\"정수 입력> \"))\n",
    "\n",
    "    print(\"원의 반지름:\", number_input_a)\n",
    "    print(\"원의 둘레:\", 2 * 3.14 * number_input_a)\n",
    "    print(\"원의 넓이:\", 3.14 * number_input_a * number_input_a)\n",
    "except:\n",
    "    print(\"정수를 입력하지 않았습니다.\")\n",
    "else:\n",
    "    print(\"예외가 발생하지 않았습니다.\")\n",
    "finally:\n",
    "    print(\"프로그램을 종료합니다.\")"
   ]
  },
  {
   "cell_type": "code",
   "execution_count": 2,
   "metadata": {},
   "outputs": [
    {
     "name": "stdout",
     "output_type": "stream",
     "text": [
      "정수를 입력하지 않았습니다.\n",
      "프로그램을 종료합니다.\n"
     ]
    }
   ],
   "source": [
    "try:\n",
    "    number_input_a = int(input(\"정수 입력> \"))\n",
    "\n",
    "    print(\"원의 반지름:\", number_input_a)\n",
    "    print(\"원의 둘레:\", 2 * 3.14 * number_input_a)\n",
    "    print(\"원의 넓이:\", 3.14 * number_input_a * number_input_a)\n",
    "except:\n",
    "    print(\"정수를 입력하지 않았습니다.\")\n",
    "else:\n",
    "    print(\"예외가 발생하지 않았습니다.\")\n",
    "finally:\n",
    "    print(\"프로그램을 종료합니다.\")"
   ]
  }
 ],
 "metadata": {
  "kernelspec": {
   "display_name": "Python 3",
   "language": "python",
   "name": "python3"
  },
  "language_info": {
   "codemirror_mode": {
    "name": "ipython",
    "version": 3
   },
   "file_extension": ".py",
   "mimetype": "text/x-python",
   "name": "python",
   "nbconvert_exporter": "python",
   "pygments_lexer": "ipython3",
   "version": "3.11.0"
  },
  "orig_nbformat": 4
 },
 "nbformat": 4,
 "nbformat_minor": 2
}
