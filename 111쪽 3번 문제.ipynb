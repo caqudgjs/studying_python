{
 "cells": [
  {
   "cell_type": "code",
   "execution_count": 1,
   "metadata": {},
   "outputs": [
    {
     "name": "stdout",
     "output_type": "stream",
     "text": [
      "# 기본적인 연산\n",
      "15 + 4 = 19\n",
      "15 - 4 = 11\n",
      "15 * 4 = 60\n",
      "15 / 4 = 3.75\n"
     ]
    }
   ],
   "source": [
    "print(\"# 기본적인 연산\")\n",
    "print(15, \"+\", 4, \"=\", 15 + 4)\n",
    "print(15, \"-\", 4, \"=\", 15 - 4)\n",
    "print(15, \"*\", 4, \"=\", 15 * 4)\n",
    "print(15, \"/\", 4, \"=\", 15 / 4)"
   ]
  },
  {
   "cell_type": "code",
   "execution_count": null,
   "metadata": {},
   "outputs": [],
   "source": []
  }
 ],
 "metadata": {
  "kernelspec": {
   "display_name": "Python 3",
   "language": "python",
   "name": "python3"
  },
  "language_info": {
   "codemirror_mode": {
    "name": "ipython",
    "version": 3
   },
   "file_extension": ".py",
   "mimetype": "text/x-python",
   "name": "python",
   "nbconvert_exporter": "python",
   "pygments_lexer": "ipython3",
   "version": "3.11.0"
  },
  "orig_nbformat": 4
 },
 "nbformat": 4,
 "nbformat_minor": 2
}
