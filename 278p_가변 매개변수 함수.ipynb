{
 "cells": [
  {
   "cell_type": "code",
   "execution_count": 1,
   "metadata": {},
   "outputs": [
    {
     "name": "stdout",
     "output_type": "stream",
     "text": [
      "안녕하세요\n",
      "즐거운\n",
      "파이썬 프로그래밍\n",
      "\n",
      "안녕하세요\n",
      "즐거운\n",
      "파이썬 프로그래밍\n",
      "\n",
      "안녕하세요\n",
      "즐거운\n",
      "파이썬 프로그래밍\n",
      "\n"
     ]
    }
   ],
   "source": [
    "def print_n_times(n, *values):\n",
    "    for i in range(n):\n",
    "        \n",
    "        for value in values:\n",
    "            print(value)\n",
    "        \n",
    "        print()\n",
    "\n",
    "print_n_times(3, \"안녕하세요\", \"즐거운\", \"파이썬 프로그래밍\")"
   ]
  }
 ],
 "metadata": {
  "kernelspec": {
   "display_name": "Python 3",
   "language": "python",
   "name": "python3"
  },
  "language_info": {
   "codemirror_mode": {
    "name": "ipython",
    "version": 3
   },
   "file_extension": ".py",
   "mimetype": "text/x-python",
   "name": "python",
   "nbconvert_exporter": "python",
   "pygments_lexer": "ipython3",
   "version": "3.11.0"
  },
  "orig_nbformat": 4
 },
 "nbformat": 4,
 "nbformat_minor": 2
}
