{
 "cells": [
  {
   "cell_type": "code",
   "execution_count": 1,
   "metadata": {},
   "outputs": [
    {
     "name": "stdout",
     "output_type": "stream",
     "text": [
      "\n",
      "반지름:  2\n",
      "둘레:  12.56\n",
      "넓이:  12.56\n"
     ]
    }
   ],
   "source": [
    "str_input = input(\"원의 반지름 입력> \")\n",
    "num_input = int(str_input)\n",
    "print()\n",
    "print(\"반지름: \", num_input)\n",
    "print(\"둘레: \", 2 * 3.14 * num_input)\n",
    "print(\"넓이: \", 3.14 * num_input ** 2)\n"
   ]
  },
  {
   "cell_type": "code",
   "execution_count": 2,
   "metadata": {},
   "outputs": [
    {
     "name": "stdout",
     "output_type": "stream",
     "text": [
      "\n",
      "반지름:  5\n",
      "둘레:  31.400000000000002\n",
      "넓이:  78.5\n"
     ]
    }
   ],
   "source": [
    "str_input = input(\"원의 반지름 입력> \")\n",
    "num_input = int(str_input)\n",
    "print()\n",
    "print(\"반지름: \", num_input)\n",
    "print(\"둘레: \", 2 * 3.14 * num_input)\n",
    "print(\"넓이: \", 3.14 * num_input ** 2)"
   ]
  },
  {
   "cell_type": "code",
   "execution_count": null,
   "metadata": {},
   "outputs": [],
   "source": []
  }
 ],
 "metadata": {
  "kernelspec": {
   "display_name": "Python 3",
   "language": "python",
   "name": "python3"
  },
  "language_info": {
   "codemirror_mode": {
    "name": "ipython",
    "version": 3
   },
   "file_extension": ".py",
   "mimetype": "text/x-python",
   "name": "python",
   "nbconvert_exporter": "python",
   "pygments_lexer": "ipython3",
   "version": "3.11.0"
  },
  "orig_nbformat": 4
 },
 "nbformat": 4,
 "nbformat_minor": 2
}
