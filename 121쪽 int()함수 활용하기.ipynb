{
 "cells": [
  {
   "cell_type": "code",
   "execution_count": 1,
   "metadata": {},
   "outputs": [
    {
     "name": "stdout",
     "output_type": "stream",
     "text": [
      "문자열 자료: 27352\n",
      "숫자 자료: 325\n"
     ]
    }
   ],
   "source": [
    "string_a = input(\"입력A> \")\n",
    "int_a = int(string_a)\n",
    "\n",
    "string_b = input(\"입력B> \")\n",
    "int_b = int(string_b)\n",
    "\n",
    "print(\"문자열 자료:\", string_a + string_b)\n",
    "print(\"숫자 자료:\", int_a + int_b)\n"
   ]
  },
  {
   "cell_type": "code",
   "execution_count": null,
   "metadata": {},
   "outputs": [],
   "source": []
  }
 ],
 "metadata": {
  "kernelspec": {
   "display_name": "Python 3",
   "language": "python",
   "name": "python3"
  },
  "language_info": {
   "codemirror_mode": {
    "name": "ipython",
    "version": 3
   },
   "file_extension": ".py",
   "mimetype": "text/x-python",
   "name": "python",
   "nbconvert_exporter": "python",
   "pygments_lexer": "ipython3",
   "version": "3.11.0"
  },
  "orig_nbformat": 4
 },
 "nbformat": 4,
 "nbformat_minor": 2
}
