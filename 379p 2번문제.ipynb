{
 "cells": [
  {
   "cell_type": "code",
   "execution_count": 1,
   "metadata": {},
   "outputs": [
    {
     "name": "stdout",
     "output_type": "stream",
     "text": [
      "# (1) 요소 내부에 있는 값 찾기\n",
      "- 52는 0 위치에 있습니다.\n",
      "\n",
      "# (2) 요소 내부에 없는 값 찾기\n",
      "- 리스트 내부에 없는 값입니다.\n",
      "\n",
      "정상적으로 종료되었습니다.\n"
     ]
    }
   ],
   "source": [
    "numbers = [52, 273, 32, 103, 90, 10, 275]\n",
    "\n",
    "print(\"# (1) 요소 내부에 있는 값 찾기\")\n",
    "print(\"- {}는 {} 위치에 있습니다.\".format(52, numbers.index(52)))\n",
    "print()\n",
    "\n",
    "print(\"# (2) 요소 내부에 없는 값 찾기\")\n",
    "number = 10000\n",
    "if number in numbers:\n",
    "    print(\"- {}는 {} 위치에 있습니다.\".format(number, numbers.index(number)))\n",
    "else:\n",
    "    print(\"- 리스트 내부에 없는 값입니다.\")\n",
    "print()\n",
    "\n",
    "print(\"정상적으로 종료되었습니다.\")"
   ]
  }
 ],
 "metadata": {
  "kernelspec": {
   "display_name": "Python 3",
   "language": "python",
   "name": "python3"
  },
  "language_info": {
   "codemirror_mode": {
    "name": "ipython",
    "version": 3
   },
   "file_extension": ".py",
   "mimetype": "text/x-python",
   "name": "python",
   "nbconvert_exporter": "python",
   "pygments_lexer": "ipython3",
   "version": "3.11.0"
  },
  "orig_nbformat": 4
 },
 "nbformat": 4,
 "nbformat_minor": 2
}
