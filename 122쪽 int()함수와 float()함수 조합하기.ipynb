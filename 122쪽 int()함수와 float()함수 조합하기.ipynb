{
 "cells": [
  {
   "cell_type": "code",
   "execution_count": 1,
   "metadata": {},
   "outputs": [
    {
     "name": "stdout",
     "output_type": "stream",
     "text": [
      "덧셈 결과:  325.0\n",
      "뺄셈 결과:  221.0\n",
      "곱셈 결과:  14196.0\n",
      "나눗셈 결과:  5.25\n"
     ]
    }
   ],
   "source": [
    "input_a = float(input(\"첫 번째 숫자> \"))\n",
    "input_b = float(input(\"두 번째 숫자> \"))\n",
    "\n",
    "print(\"덧셈 결과: \", input_a + input_b)\n",
    "print(\"뺄셈 결과: \", input_a - input_b)\n",
    "print(\"곱셈 결과: \", input_a * input_b)\n",
    "print(\"나눗셈 결과: \", input_a / input_b)"
   ]
  },
  {
   "cell_type": "code",
   "execution_count": null,
   "metadata": {},
   "outputs": [],
   "source": []
  }
 ],
 "metadata": {
  "kernelspec": {
   "display_name": "Python 3",
   "language": "python",
   "name": "python3"
  },
  "language_info": {
   "codemirror_mode": {
    "name": "ipython",
    "version": 3
   },
   "file_extension": ".py",
   "mimetype": "text/x-python",
   "name": "python",
   "nbconvert_exporter": "python",
   "pygments_lexer": "ipython3",
   "version": "3.11.0"
  },
  "orig_nbformat": 4
 },
 "nbformat": 4,
 "nbformat_minor": 2
}
