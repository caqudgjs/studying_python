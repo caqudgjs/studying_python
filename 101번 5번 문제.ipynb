{
 "cells": [
  {
   "cell_type": "code",
   "execution_count": 1,
   "metadata": {},
   "outputs": [
    {
     "name": "stdout",
     "output_type": "stream",
     "text": [
      "녕하\n",
      "하세\n",
      "녕하세요\n",
      "안녕하\n"
     ]
    }
   ],
   "source": [
    "print(\"안녕하세요\"[1:3])\n",
    "print(\"안녕하세요\"[2:4])\n",
    "print(\"안녕하세요\"[1:])\n",
    "print(\"안녕하세요\"[:3])\n"
   ]
  },
  {
   "cell_type": "code",
   "execution_count": null,
   "metadata": {},
   "outputs": [],
   "source": [
    "#1번 1부터 3의전까지 입력이라 녕하\n",
    "#2번 2부터 4의전까지 입력이라 하세\n",
    "#3번 1부터 끝까지 녕하세요\n",
    "#4번 3번부터 처음까지 안녕하"
   ]
  }
 ],
 "metadata": {
  "kernelspec": {
   "display_name": "Python 3",
   "language": "python",
   "name": "python3"
  },
  "language_info": {
   "codemirror_mode": {
    "name": "ipython",
    "version": 3
   },
   "file_extension": ".py",
   "mimetype": "text/x-python",
   "name": "python",
   "nbconvert_exporter": "python",
   "pygments_lexer": "ipython3",
   "version": "3.11.0"
  },
  "orig_nbformat": 4
 },
 "nbformat": 4,
 "nbformat_minor": 2
}
