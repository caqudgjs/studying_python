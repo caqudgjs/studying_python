{
 "cells": [
  {
   "cell_type": "code",
   "execution_count": 1,
   "metadata": {},
   "outputs": [
    {
     "name": "stdout",
     "output_type": "stream",
     "text": [
      "(1, 2, [3, 4], 5, [6, 7], [8, 9])를 평탄화 하면\n",
      "[1, 2, 3, 4, 5, 6, 7, 8, 9]입니다.\n"
     ]
    }
   ],
   "source": [
    "a = 1, 2, [3, 4], 5, [6, 7], [8, 9]\n",
    "output = []\n",
    "\n",
    "for i in a:\n",
    "    if type(i) == list:\n",
    "        for j in i:\n",
    "            output.append(j)\n",
    "    else:\n",
    "        output.append(i)\n",
    "\n",
    "print(f\"{a}를 평탄화 하면\")\n",
    "print(f\"{output}입니다.\")"
   ]
  }
 ],
 "metadata": {
  "kernelspec": {
   "display_name": "Python 3",
   "language": "python",
   "name": "python3"
  },
  "language_info": {
   "codemirror_mode": {
    "name": "ipython",
    "version": 3
   },
   "file_extension": ".py",
   "mimetype": "text/x-python",
   "name": "python",
   "nbconvert_exporter": "python",
   "pygments_lexer": "ipython3",
   "version": "3.11.0"
  },
  "orig_nbformat": 4
 },
 "nbformat": 4,
 "nbformat_minor": 2
}
