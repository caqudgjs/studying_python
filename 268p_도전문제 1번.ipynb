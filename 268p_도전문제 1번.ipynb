{
 "cells": [
  {
   "cell_type": "code",
   "execution_count": 4,
   "metadata": {},
   "outputs": [
    {
     "name": "stdout",
     "output_type": "stream",
     "text": [
      "[1, 2, 3, 4, 1, 2, 3, 1, 4, 1, 2, 3]에서\n",
      "사용된 숫자의 종류는 4개 입니다.\n"
     ]
    }
   ],
   "source": [
    "a = [1, 2, 3, 4, 1, 2, 3, 1, 4, 1, 2, 3]\n",
    "counter = {}\n",
    "\n",
    "for i in a:\n",
    "    if i not in counter:\n",
    "        counter[i] = 0\n",
    "    counter[i] += 1\n",
    "\n",
    "print(f\"{a}에서\")\n",
    "print(f\"사용된 숫자의 종류는 {len(counter)}개 입니다.\")"
   ]
  }
 ],
 "metadata": {
  "kernelspec": {
   "display_name": "Python 3",
   "language": "python",
   "name": "python3"
  },
  "language_info": {
   "codemirror_mode": {
    "name": "ipython",
    "version": 3
   },
   "file_extension": ".py",
   "mimetype": "text/x-python",
   "name": "python",
   "nbconvert_exporter": "python",
   "pygments_lexer": "ipython3",
   "version": "3.11.0"
  },
  "orig_nbformat": 4
 },
 "nbformat": 4,
 "nbformat_minor": 2
}
