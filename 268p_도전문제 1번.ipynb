{
 "cells": [
  {
   "cell_type": "code",
   "execution_count": 2,
   "metadata": {},
   "outputs": [
    {
     "ename": "KeyError",
     "evalue": "1",
     "output_type": "error",
     "traceback": [
      "\u001b[1;31m---------------------------------------------------------------------------\u001b[0m",
      "\u001b[1;31mKeyError\u001b[0m                                  Traceback (most recent call last)",
      "Cell \u001b[1;32mIn[2], line 7\u001b[0m\n\u001b[0;32m      5\u001b[0m     \u001b[39mif\u001b[39;00m i \u001b[39min\u001b[39;00m counter:\n\u001b[0;32m      6\u001b[0m         counter[i] \u001b[39m=\u001b[39m \u001b[39m0\u001b[39m\n\u001b[1;32m----> 7\u001b[0m     counter[i] \u001b[39m+\u001b[39m\u001b[39m=\u001b[39m \u001b[39m1\u001b[39m\n\u001b[0;32m      9\u001b[0m \u001b[39mprint\u001b[39m(\u001b[39mf\u001b[39m\u001b[39m\"\u001b[39m\u001b[39m{\u001b[39;00ma\u001b[39m}\u001b[39;00m\u001b[39m에서\u001b[39m\u001b[39m\"\u001b[39m)\n\u001b[0;32m     10\u001b[0m \u001b[39mprint\u001b[39m(\u001b[39mf\u001b[39m\u001b[39m\"\u001b[39m\u001b[39m사용된 숫자의 종류는 \u001b[39m\u001b[39m{\u001b[39;00m\u001b[39mlen\u001b[39m(counter)\u001b[39m}\u001b[39;00m\u001b[39m개 입니다.\u001b[39m\u001b[39m\"\u001b[39m)\n",
      "\u001b[1;31mKeyError\u001b[0m: 1"
     ]
    }
   ],
   "source": [
    "a = [1, 2, 3, 4, 1, 2, 3, 1, 4, 1, 2, 3]\n",
    "counter = {}\n",
    "\n",
    "for i in a:\n",
    "    if i in counter:\n",
    "        counter[i] = 0\n",
    "    counter[i] += 1\n",
    "\n",
    "print(f\"{a}에서\")\n",
    "print(f\"사용된 숫자의 종류는 {len(counter)}개 입니다.\")"
   ]
  }
 ],
 "metadata": {
  "kernelspec": {
   "display_name": "Python 3",
   "language": "python",
   "name": "python3"
  },
  "language_info": {
   "codemirror_mode": {
    "name": "ipython",
    "version": 3
   },
   "file_extension": ".py",
   "mimetype": "text/x-python",
   "name": "python",
   "nbconvert_exporter": "python",
   "pygments_lexer": "ipython3",
   "version": "3.11.0"
  },
  "orig_nbformat": 4
 },
 "nbformat": 4,
 "nbformat_minor": 2
}
