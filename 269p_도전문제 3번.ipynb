{
 "cells": [
  {
   "cell_type": "code",
   "execution_count": 8,
   "metadata": {},
   "outputs": [
    {
     "name": "stdout",
     "output_type": "stream",
     "text": [
      "{'atg': 1, 'cta': 1, 'gtc': 1, 'gat': 2, 'gct': 1, 'cgt': 1, 'ata': 2, 'tat': 1, 'atc': 1, 'gcg': 1, 'tcg': 1}\n"
     ]
    }
   ],
   "source": [
    "nucleos = input(\"염기서열을 입력하세요: \")\n",
    "counter = {}\n",
    "for i in range(0, len(nucleos), 3):\n",
    "    codon = nucleos[i:i+3]\n",
    "    if len(codon) == 3:\n",
    "        if codon not in counter:\n",
    "            counter[codon] = 0\n",
    "        counter[codon] += 1\n",
    "print(counter)\n"
   ]
  }
 ],
 "metadata": {
  "kernelspec": {
   "display_name": "Python 3",
   "language": "python",
   "name": "python3"
  },
  "language_info": {
   "codemirror_mode": {
    "name": "ipython",
    "version": 3
   },
   "file_extension": ".py",
   "mimetype": "text/x-python",
   "name": "python",
   "nbconvert_exporter": "python",
   "pygments_lexer": "ipython3",
   "version": "3.11.0"
  },
  "orig_nbformat": 4
 },
 "nbformat": 4,
 "nbformat_minor": 2
}
