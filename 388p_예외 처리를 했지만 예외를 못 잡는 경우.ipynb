{
 "cells": [
  {
   "cell_type": "code",
   "execution_count": 2,
   "metadata": {},
   "outputs": [
    {
     "name": "stdout",
     "output_type": "stream",
     "text": [
      "1번째 요소: 273\n"
     ]
    },
    {
     "ename": "NameError",
     "evalue": "name '예외' is not defined",
     "output_type": "error",
     "traceback": [
      "\u001b[1;31m---------------------------------------------------------------------------\u001b[0m",
      "\u001b[1;31mNameError\u001b[0m                                 Traceback (most recent call last)",
      "Cell \u001b[1;32mIn[2], line 6\u001b[0m\n\u001b[0;32m      4\u001b[0m     number_input \u001b[39m=\u001b[39m \u001b[39mint\u001b[39m(\u001b[39minput\u001b[39m(\u001b[39m\"\u001b[39m\u001b[39m정수 입력> \u001b[39m\u001b[39m\"\u001b[39m))\n\u001b[0;32m      5\u001b[0m     \u001b[39mprint\u001b[39m(\u001b[39m\"\u001b[39m\u001b[39m{}\u001b[39;00m\u001b[39m번째 요소: \u001b[39m\u001b[39m{}\u001b[39;00m\u001b[39m\"\u001b[39m\u001b[39m.\u001b[39mformat(number_input, list_number[number_input]))\n\u001b[1;32m----> 6\u001b[0m     예외\u001b[39m.\u001b[39m발생해주세요()\n\u001b[0;32m      7\u001b[0m \u001b[39mexcept\u001b[39;00m \u001b[39mValueError\u001b[39;00m \u001b[39mas\u001b[39;00m exception:\n\u001b[0;32m      8\u001b[0m     \u001b[39mprint\u001b[39m(\u001b[39m\"\u001b[39m\u001b[39m정수를 입력해주세요!\u001b[39m\u001b[39m\"\u001b[39m)\n",
      "\u001b[1;31mNameError\u001b[0m: name '예외' is not defined"
     ]
    }
   ],
   "source": [
    "list_number = [52, 273, 32, 72, 100]\n",
    "\n",
    "try:\n",
    "    number_input = int(input(\"정수 입력> \"))\n",
    "    print(\"{}번째 요소: {}\".format(number_input, list_number[number_input]))\n",
    "    예외.발생해주세요()\n",
    "except ValueError as exception:\n",
    "    print(\"정수를 입력해주세요!\")\n",
    "    print(type(exception), exception)\n",
    "except IndexError as exception:\n",
    "    print(\"리스트의 인덱스를 벗어났어요!\")\n",
    "    print(type(exception), exception)"
   ]
  }
 ],
 "metadata": {
  "kernelspec": {
   "display_name": "Python 3",
   "language": "python",
   "name": "python3"
  },
  "language_info": {
   "codemirror_mode": {
    "name": "ipython",
    "version": 3
   },
   "file_extension": ".py",
   "mimetype": "text/x-python",
   "name": "python",
   "nbconvert_exporter": "python",
   "pygments_lexer": "ipython3",
   "version": "3.11.0"
  },
  "orig_nbformat": 4
 },
 "nbformat": 4,
 "nbformat_minor": 2
}
