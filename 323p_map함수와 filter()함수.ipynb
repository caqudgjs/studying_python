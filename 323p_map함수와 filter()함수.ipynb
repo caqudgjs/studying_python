{
 "cells": [
  {
   "cell_type": "code",
   "execution_count": 1,
   "metadata": {},
   "outputs": [
    {
     "name": "stdout",
     "output_type": "stream",
     "text": [
      "# map() 함수의 실행결과\n",
      "map(power, list_input_a): <map object at 0x000001DEBDE968F0>\n",
      "map(power, list_input_a): [1, 4, 9, 16, 25]\n",
      "\n",
      "# filter() 함수의 실행결과\n",
      "filter(under_3, list_input_a): <filter object at 0x000001DEBDE95390>\n",
      "filter(under_3, list_input_a): [1, 2]\n"
     ]
    }
   ],
   "source": [
    "def power(item):\n",
    "    return item * item\n",
    "def under_3(item):\n",
    "    return item < 3\n",
    "\n",
    "list_input_a = [1,2,3,4,5]\n",
    "\n",
    "\n",
    "output_a = map(power, list_input_a)\n",
    "print(\"# map() 함수의 실행결과\")\n",
    "print(\"map(power, list_input_a):\", output_a)\n",
    "print(\"map(power, list_input_a):\", list(output_a))\n",
    "print()\n",
    "\n",
    "output_b = filter(under_3, list_input_a)\n",
    "print(\"# filter() 함수의 실행결과\")\n",
    "print(\"filter(under_3, list_input_a):\", output_b)\n",
    "print(\"filter(under_3, list_input_a):\", list(output_b))\n"
   ]
  }
 ],
 "metadata": {
  "kernelspec": {
   "display_name": "Python 3",
   "language": "python",
   "name": "python3"
  },
  "language_info": {
   "codemirror_mode": {
    "name": "ipython",
    "version": 3
   },
   "file_extension": ".py",
   "mimetype": "text/x-python",
   "name": "python",
   "nbconvert_exporter": "python",
   "pygments_lexer": "ipython3",
   "version": "3.11.0"
  },
  "orig_nbformat": 4
 },
 "nbformat": 4,
 "nbformat_minor": 2
}
