{
 "cells": [
  {
   "cell_type": "code",
   "execution_count": 2,
   "metadata": {},
   "outputs": [
    {
     "name": "stdout",
     "output_type": "stream",
     "text": [
      "[1, 2, 3, 4, 5, 6, 7, [...]]\n",
      "[1, 2, 3, 4, 5, 6, 7, [...], 10]\n",
      "[1, 2, 3, 0, 4, 5, 6, 7, [...], 10]\n",
      "[1, 2, 0, 4, 5, 6, 7, [...], 10]\n",
      "[1, 2, 0, 5, 6, 7, [...], 10]\n",
      "[]\n"
     ]
    }
   ],
   "source": [
    "list_a = [1, 2, 3, 4, 5, 6, 7]\n",
    "list_a.append(list_a)\n",
    "print(list_a)\n",
    "\n",
    "list_a.append(10)\n",
    "print(list_a)\n",
    "\n",
    "list_a.insert(3, 0)\n",
    "print(list_a)\n",
    "\n",
    "list_a.remove(3)\n",
    "print(list_a)\n",
    "\n",
    "list_a.pop(3)\n",
    "print(list_a)\n",
    "\n",
    "list_a.clear()\n",
    "print(list_a)"
   ]
  },
  {
   "cell_type": "code",
   "execution_count": null,
   "metadata": {},
   "outputs": [],
   "source": []
  }
 ],
 "metadata": {
  "kernelspec": {
   "display_name": "Python 3",
   "language": "python",
   "name": "python3"
  },
  "language_info": {
   "codemirror_mode": {
    "name": "ipython",
    "version": 3
   },
   "file_extension": ".py",
   "mimetype": "text/x-python",
   "name": "python",
   "nbconvert_exporter": "python",
   "pygments_lexer": "ipython3",
   "version": "3.11.0"
  },
  "orig_nbformat": 4
 },
 "nbformat": 4,
 "nbformat_minor": 2
}
