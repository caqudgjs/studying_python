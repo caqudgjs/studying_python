{
 "cells": [
  {
   "cell_type": "code",
   "execution_count": 1,
   "metadata": {},
   "outputs": [
    {
     "name": "stdout",
     "output_type": "stream",
     "text": [
      "#random모듈\n",
      "-random(): 0.6361294406877404\n",
      "-uniform(10,20): 13.602066281245591\n",
      "-randrange(10): 4\n",
      "-choice([1,2,3,4,5]): 5\n",
      "-shuffle([1,2,3,4,5]): None\n",
      "-sample([1,2,3,4,5],k=2): [4, 5]\n"
     ]
    }
   ],
   "source": [
    "import random\n",
    "print(\"#random모듈\")\n",
    "\n",
    "print(\"-random():\",random.random())\n",
    "\n",
    "print(\"-uniform(10,20):\",random.uniform(10,20))\n",
    "\n",
    "print(\"-randrange(10):\",random.randrange(10))\n",
    "\n",
    "print(\"-choice([1,2,3,4,5]):\",random.choice([1,2,3,4,5]))\n",
    "\n",
    "print(\"-shuffle([1,2,3,4,5]):\",random.shuffle([1,2,3,4,5]))\n",
    "\n",
    "print(\"-sample([1,2,3,4,5],k=2):\",random.sample([1,2,3,4,5],k=2))"
   ]
  }
 ],
 "metadata": {
  "kernelspec": {
   "display_name": "Python 3",
   "language": "python",
   "name": "python3"
  },
  "language_info": {
   "codemirror_mode": {
    "name": "ipython",
    "version": 3
   },
   "file_extension": ".py",
   "mimetype": "text/x-python",
   "name": "python",
   "nbconvert_exporter": "python",
   "pygments_lexer": "ipython3",
   "version": "3.11.0"
  },
  "orig_nbformat": 4
 },
 "nbformat": 4,
 "nbformat_minor": 2
}
