{
 "cells": [
  {
   "cell_type": "code",
   "execution_count": 1,
   "metadata": {},
   "outputs": [
    {
     "name": "stdout",
     "output_type": "stream",
     "text": [
      "['52', '273', '32', '스파이', '103'] 내부에 있는 숫자는\n",
      "['52', '273', '32', '103']입니다.\n"
     ]
    }
   ],
   "source": [
    "list_input_a = [\"52\", \"273\", \"32\", \"스파이\", \"103\"]\n",
    "\n",
    "list_number = []\n",
    "for item in list_input_a:\n",
    "    # 숫자로 변환해서 리스트에 추가\n",
    "    try:\n",
    "        float(item)  # 예외가 발생하면 알아서 다음으로 진행되지 않음\n",
    "        list_number.append(item)\n",
    "    except:\n",
    "        pass\n",
    "\n",
    "print(\"{} 내부에 있는 숫자는\".format(list_input_a))\n",
    "print(\"{}입니다.\".format(list_number))"
   ]
  }
 ],
 "metadata": {
  "kernelspec": {
   "display_name": "Python 3",
   "language": "python",
   "name": "python3"
  },
  "language_info": {
   "codemirror_mode": {
    "name": "ipython",
    "version": 3
   },
   "file_extension": ".py",
   "mimetype": "text/x-python",
   "name": "python",
   "nbconvert_exporter": "python",
   "pygments_lexer": "ipython3",
   "version": "3.11.0"
  },
  "orig_nbformat": 4
 },
 "nbformat": 4,
 "nbformat_minor": 2
}
