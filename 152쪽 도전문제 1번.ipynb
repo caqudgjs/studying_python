{
 "cells": [
  {
   "cell_type": "code",
   "execution_count": 4,
   "metadata": {},
   "outputs": [
    {
     "name": "stdout",
     "output_type": "stream",
     "text": [
      "구의 부피는 4186.666666666667 입니다.\n",
      "구의 겉넓이는 1256.0 입니다.\n"
     ]
    }
   ],
   "source": [
    "#구의 부피와 겉넓이\n",
    "\n",
    "r = int(input(\"반지름을 입력하세요: \"))\n",
    "v = 4/3 * 3.14 * r**3\n",
    "s = 4 * 3.14 * r**2\n",
    "\n",
    "print(\"구의 부피는\", v, \"입니다.\")\n",
    "print(\"구의 겉넓이는\", s, \"입니다.\")\n"
   ]
  },
  {
   "cell_type": "code",
   "execution_count": null,
   "metadata": {},
   "outputs": [],
   "source": []
  }
 ],
 "metadata": {
  "kernelspec": {
   "display_name": "Python 3",
   "language": "python",
   "name": "python3"
  },
  "language_info": {
   "codemirror_mode": {
    "name": "ipython",
    "version": 3
   },
   "file_extension": ".py",
   "mimetype": "text/x-python",
   "name": "python",
   "nbconvert_exporter": "python",
   "pygments_lexer": "ipython3",
   "version": "3.11.0"
  },
  "orig_nbformat": 4
 },
 "nbformat": 4,
 "nbformat_minor": 2
}
