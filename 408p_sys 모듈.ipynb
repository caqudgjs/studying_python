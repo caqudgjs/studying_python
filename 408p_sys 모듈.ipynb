{
 "cells": [
  {
   "cell_type": "code",
   "execution_count": 2,
   "metadata": {},
   "outputs": [
    {
     "name": "stdout",
     "output_type": "stream",
     "text": [
      "['C:\\\\Users\\\\caqud\\\\AppData\\\\Roaming\\\\Python\\\\Python311\\\\site-packages\\\\ipykernel_launcher.py', '--ip=127.0.0.1', '--stdin=9113', '--control=9111', '--hb=9110', '--Session.signature_scheme=\"hmac-sha256\"', '--Session.key=b\"b4b9c7e1-08b5-456e-8e13-bd24d1010c75\"', '--shell=9112', '--transport=\"tcp\"', '--iopub=9114', '--f=c:\\\\Users\\\\caqud\\\\AppData\\\\Roaming\\\\jupyter\\\\runtime\\\\kernel-v2-19340URKs5YhBJcfZ.json']\n",
      "---\n",
      "getwindowsversion:() sys.getwindowsversion(major=10, minor=0, build=22621, platform=2, service_pack='')\n",
      "---\n",
      "copyright: Copyright (c) 2001-2022 Python Software Foundation.\n",
      "All Rights Reserved.\n",
      "\n",
      "Copyright (c) 2000 BeOpen.com.\n",
      "All Rights Reserved.\n",
      "\n",
      "Copyright (c) 1995-2001 Corporation for National Research Initiatives.\n",
      "All Rights Reserved.\n",
      "\n",
      "Copyright (c) 1991-1995 Stichting Mathematisch Centrum, Amsterdam.\n",
      "All Rights Reserved.\n",
      "---\n",
      "version: 3.11.0 (main, Oct 24 2022, 18:26:48) [MSC v.1933 64 bit (AMD64)]\n"
     ]
    },
    {
     "ename": "SystemExit",
     "evalue": "",
     "output_type": "error",
     "traceback": [
      "An exception has occurred, use %tb to see the full traceback.\n",
      "\u001b[1;31mSystemExit\u001b[0m\n"
     ]
    },
    {
     "name": "stderr",
     "output_type": "stream",
     "text": [
      "C:\\Users\\caqud\\AppData\\Roaming\\Python\\Python311\\site-packages\\IPython\\core\\interactiveshell.py:3468: UserWarning: To exit: use 'exit', 'quit', or Ctrl-D.\n",
      "  warn(\"To exit: use 'exit', 'quit', or Ctrl-D.\", stacklevel=1)\n"
     ]
    }
   ],
   "source": [
    "import sys\n",
    "\n",
    "print(sys.argv)\n",
    "\n",
    "print(\"---\")\n",
    "\n",
    "print(\"getwindowsversion:()\", sys.getwindowsversion())\n",
    "\n",
    "print(\"---\")\n",
    "\n",
    "print(\"copyright:\", sys.copyright)\n",
    "\n",
    "print(\"---\")\n",
    "\n",
    "print(\"version:\", sys.version)\n",
    "\n",
    "\n",
    "sys.exit()"
   ]
  }
 ],
 "metadata": {
  "kernelspec": {
   "display_name": "Python 3",
   "language": "python",
   "name": "python3"
  },
  "language_info": {
   "codemirror_mode": {
    "name": "ipython",
    "version": 3
   },
   "file_extension": ".py",
   "mimetype": "text/x-python",
   "name": "python",
   "nbconvert_exporter": "python",
   "pygments_lexer": "ipython3",
   "version": "3.11.0"
  },
  "orig_nbformat": 4
 },
 "nbformat": 4,
 "nbformat_minor": 2
}
