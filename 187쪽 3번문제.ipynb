{
 "cells": [
  {
   "cell_type": "code",
   "execution_count": 1,
   "metadata": {},
   "outputs": [
    {
     "name": "stdout",
     "output_type": "stream",
     "text": [
      "범 띠입니다.\n"
     ]
    }
   ],
   "source": [
    "str_input = input(\"태어난 해를 입력하세요> \")\n",
    "birth_year = int(str_input) % 12\n",
    "\n",
    "if birth_year == 0:\n",
    "    print(\"원숭이 띠입니다.\")\n",
    "elif birth_year == 1:\n",
    "    print(\"닭 띠입니다.\")\n",
    "elif birth_year == 2:\n",
    "    print(\"개 띠입니다.\")\n",
    "elif birth_year == 3:\n",
    "    print(\"돼지 띠입니다.\")\n",
    "elif birth_year == 4:\n",
    "    print(\"쥐 띠입니다.\")\n",
    "elif birth_year == 5:\n",
    "    print(\"소 띠입니다.\")\n",
    "elif birth_year == 6:\n",
    "    print(\"범 띠입니다.\")\n",
    "elif birth_year == 7:\n",
    "    print(\"토끼 띠입니다.\")\n",
    "elif birth_year == 8:\n",
    "    print(\"용 띠입니다.\")\n",
    "elif birth_year == 9:\n",
    "    print(\"뱀 띠입니다.\")\n",
    "elif birth_year == 10:\n",
    "    print(\"말 띠입니다.\")\n",
    "elif birth_year == 11:\n",
    "    print(\"양 띠입니다.\")"
   ]
  }
 ],
 "metadata": {
  "kernelspec": {
   "display_name": "Python 3",
   "language": "python",
   "name": "python3"
  },
  "language_info": {
   "codemirror_mode": {
    "name": "ipython",
    "version": 3
   },
   "file_extension": ".py",
   "mimetype": "text/x-python",
   "name": "python",
   "nbconvert_exporter": "python",
   "pygments_lexer": "ipython3",
   "version": "3.11.0"
  },
  "orig_nbformat": 4
 },
 "nbformat": 4,
 "nbformat_minor": 2
}
