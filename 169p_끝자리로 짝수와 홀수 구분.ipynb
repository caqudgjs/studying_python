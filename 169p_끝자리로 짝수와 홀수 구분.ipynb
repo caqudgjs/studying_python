{
 "cells": [
  {
   "cell_type": "code",
   "execution_count": 5,
   "metadata": {},
   "outputs": [
    {
     "name": "stdout",
     "output_type": "stream",
     "text": [
      "짝수입니다.\n",
      "홀수입니다.\n"
     ]
    }
   ],
   "source": [
    "# 입력52\n",
    "number = input(\"정수 입력> \")\n",
    "last_character = number[-1]\n",
    "last_number = int(last_character)\n",
    "if last_number == 0 \\\n",
    "    or last_number == 2 \\\n",
    "    or last_number == 4 \\\n",
    "    or last_number == 6 \\\n",
    "    or last_number == 8:\n",
    "    print(\"짝수입니다.\")\n",
    "if last_number == 1 \\\n",
    "    or last_number == 3 \\\n",
    "    or last_number == 5 \\\n",
    "    or last_number == 7 \\\n",
    "    or last_number == 9:\n",
    "    print(\"홀수입니다.\")\n",
    "# 입력273    \n",
    "number = input(\"정수 입력> \")\n",
    "last_character = number[-1]\n",
    "last_number = int(last_character)\n",
    "if last_number == 0 \\\n",
    "    or last_number == 2 \\\n",
    "    or last_number == 4 \\\n",
    "    or last_number == 6 \\\n",
    "    or last_number == 8:\n",
    "    print(\"짝수입니다.\")\n",
    "if last_number == 1 \\\n",
    "    or last_number == 3 \\\n",
    "    or last_number == 5 \\\n",
    "    or last_number == 7 \\\n",
    "    or last_number == 9:\n",
    "    print(\"홀수입니다.\")\n",
    "    "
   ]
  },
  {
   "cell_type": "code",
   "execution_count": null,
   "metadata": {},
   "outputs": [],
   "source": []
  }
 ],
 "metadata": {
  "kernelspec": {
   "display_name": "Python 3",
   "language": "python",
   "name": "python3"
  },
  "language_info": {
   "codemirror_mode": {
    "name": "ipython",
    "version": 3
   },
   "file_extension": ".py",
   "mimetype": "text/x-python",
   "name": "python",
   "nbconvert_exporter": "python",
   "pygments_lexer": "ipython3",
   "version": "3.11.3"
  },
  "orig_nbformat": 4,
  "vscode": {
   "interpreter": {
    "hash": "5238573367df39f7286bb46f9ff5f08f63a01a80960060ce41e3c79b190280fa"
   }
  }
 },
 "nbformat": 4,
 "nbformat_minor": 2
}
