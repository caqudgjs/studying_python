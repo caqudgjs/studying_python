{
 "cells": [
  {
   "cell_type": "code",
   "execution_count": 1,
   "metadata": {},
   "outputs": [],
   "source": [
    "from flask import Flask\n",
    "from urllib import request\n",
    "from bs4 import BeautifulSoup\n",
    "\n",
    "app = Flask(__name__)\n",
    "@app.route('/')\n",
    "\n",
    "def hello():\n",
    "    target = request.urlopen(\"http://www.kma.go.kr/weather/forecast/mid-term-rss3.jsp?stnId=108\")\n",
    "    soup = BeautifulSoup(target, \"html.parser\")\n",
    "    output = \"\"\n",
    "    for location in soup.select(\"location\"):\n",
    "        output += \"<h3>{}</h3>\".format(location.select_one(\"city\").string)\n",
    "        output += \"날씨: {}<br/>\".format(location.select_one(\"wf\").string)\n",
    "        output += \"최저/최고 기온: {}/{}\"\\\n",
    "            .format(\\\n",
    "                    location.select_one(\"tmn\").string,\\\n",
    "                    location.select_one(\"tmx\").string\\\n",
    "                    )\n",
    "        output += \"<hr/>\"\n",
    "    return output\n"
   ]
  }
 ],
 "metadata": {
  "kernelspec": {
   "display_name": "Python 3",
   "language": "python",
   "name": "python3"
  },
  "language_info": {
   "codemirror_mode": {
    "name": "ipython",
    "version": 3
   },
   "file_extension": ".py",
   "mimetype": "text/x-python",
   "name": "python",
   "nbconvert_exporter": "python",
   "pygments_lexer": "ipython3",
   "version": "3.11.0"
  },
  "orig_nbformat": 4
 },
 "nbformat": 4,
 "nbformat_minor": 2
}
