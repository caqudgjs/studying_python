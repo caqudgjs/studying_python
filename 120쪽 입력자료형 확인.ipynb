{
 "cells": [
  {
   "cell_type": "code",
   "execution_count": 1,
   "metadata": {},
   "outputs": [
    {
     "name": "stdout",
     "output_type": "stream",
     "text": [
      "자료: 52273\n",
      "자료형: <class 'str'>\n"
     ]
    }
   ],
   "source": [
    "#입력을 받습니다\n",
    "string = input(\"입력> \")\n",
    "#출력합니다\n",
    "print(\"자료:\", string)\n",
    "print(\"자료형:\", type(string))"
   ]
  },
  {
   "cell_type": "code",
   "execution_count": 2,
   "metadata": {},
   "outputs": [
    {
     "name": "stdout",
     "output_type": "stream",
     "text": [
      "자료: True\n",
      "자료형: <class 'str'>\n"
     ]
    }
   ],
   "source": [
    "#입력을 받습니다\n",
    "string = input(\"입력> \")\n",
    "#출력합니다\n",
    "print(\"자료:\", string)\n",
    "print(\"자료형:\", type(string))"
   ]
  },
  {
   "cell_type": "code",
   "execution_count": null,
   "metadata": {},
   "outputs": [],
   "source": []
  }
 ],
 "metadata": {
  "kernelspec": {
   "display_name": "Python 3",
   "language": "python",
   "name": "python3"
  },
  "language_info": {
   "codemirror_mode": {
    "name": "ipython",
    "version": 3
   },
   "file_extension": ".py",
   "mimetype": "text/x-python",
   "name": "python",
   "nbconvert_exporter": "python",
   "pygments_lexer": "ipython3",
   "version": "3.11.0"
  },
  "orig_nbformat": 4
 },
 "nbformat": 4,
 "nbformat_minor": 2
}
