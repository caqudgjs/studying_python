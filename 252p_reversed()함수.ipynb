{
 "cells": [
  {
   "cell_type": "code",
   "execution_count": 1,
   "metadata": {},
   "outputs": [
    {
     "name": "stdout",
     "output_type": "stream",
     "text": [
      "# reversed() 함수\n",
      "reversed([1, 2, 3, 4, 5]): <list_reverseiterator object at 0x000001B97F7113C0>\n",
      "list(reversed([1, 2, 3, 4, 5])): [5, 4, 3, 2, 1]\n",
      "\n",
      "# reversed() 함수와 반복문\n",
      "for i in reversed([1, 2, 3, 4, 5]):\n",
      "- 5\n",
      "- 4\n",
      "- 3\n",
      "- 2\n",
      "- 1\n"
     ]
    }
   ],
   "source": [
    "list_a = [1, 2, 3, 4, 5]\n",
    "list_reversed = reversed(list_a)\n",
    "\n",
    "print(\"# reversed() 함수\")\n",
    "print(\"reversed([1, 2, 3, 4, 5]):\", list_reversed)\n",
    "print(\"list(reversed([1, 2, 3, 4, 5])):\", list(list_reversed))\n",
    "print()\n",
    "\n",
    "print(\"# reversed() 함수와 반복문\")\n",
    "print(\"for i in reversed([1, 2, 3, 4, 5]):\")\n",
    "for i in reversed(list_a):\n",
    "    print(\"-\", i)"
   ]
  }
 ],
 "metadata": {
  "kernelspec": {
   "display_name": "Python 3",
   "language": "python",
   "name": "python3"
  },
  "language_info": {
   "codemirror_mode": {
    "name": "ipython",
    "version": 3
   },
   "file_extension": ".py",
   "mimetype": "text/x-python",
   "name": "python",
   "nbconvert_exporter": "python",
   "pygments_lexer": "ipython3",
   "version": "3.11.0"
  },
  "orig_nbformat": 4
 },
 "nbformat": 4,
 "nbformat_minor": 2
}
