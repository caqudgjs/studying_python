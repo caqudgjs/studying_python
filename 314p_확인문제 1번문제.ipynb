{
 "cells": [
  {
   "cell_type": "code",
   "execution_count": 1,
   "metadata": {},
   "outputs": [
    {
     "name": "stdout",
     "output_type": "stream",
     "text": [
      "437420\n"
     ]
    }
   ],
   "source": [
    "앉힐수있는최소사람수 = 2\n",
    "앉힐수있는최대사람수 = 10\n",
    "전체사람의수 = 100\n",
    "memo = {}\n",
    "\n",
    "def 문제(남은사람수, 앉힌사람수):\n",
    "    key = str([남은사람수, 앉힌사람수])\n",
    "    if key in memo:\n",
    "        return memo[key]\n",
    "    if 남은사람수 < 0:\n",
    "        return 0\n",
    "    if 남은사람수 == 0:\n",
    "        return 1\n",
    "    count = 0\n",
    "    for i in range(앉힌사람수, 앉힐수있는최대사람수 + 1):\n",
    "        count += 문제(남은사람수 - i, i)\n",
    "    memo[key] = count\n",
    "    return count\n",
    "\n",
    "print(문제(전체사람의수, 앉힐수있는최소사람수))"
   ]
  }
 ],
 "metadata": {
  "kernelspec": {
   "display_name": "Python 3",
   "language": "python",
   "name": "python3"
  },
  "language_info": {
   "codemirror_mode": {
    "name": "ipython",
    "version": 3
   },
   "file_extension": ".py",
   "mimetype": "text/x-python",
   "name": "python",
   "nbconvert_exporter": "python",
   "pygments_lexer": "ipython3",
   "version": "3.11.0"
  },
  "orig_nbformat": 4
 },
 "nbformat": 4,
 "nbformat_minor": 2
}
