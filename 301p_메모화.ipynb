{
 "cells": [
  {
   "cell_type": "code",
   "execution_count": 1,
   "metadata": {},
   "outputs": [
    {
     "name": "stdout",
     "output_type": "stream",
     "text": [
      "fibonacci(10): 89\n",
      "fibonacci(20): 10946\n",
      "fibonacci(30): 1346269\n",
      "fibonacci(40): 165580141\n",
      "fibonacci(50): 20365011074\n"
     ]
    }
   ],
   "source": [
    "dictionary = {\n",
    "    1: 1,\n",
    "    2: 2\n",
    "}\n",
    "\n",
    "def fibonacci(n):\n",
    "    if n in dictionary:\n",
    "        return dictionary[n]\n",
    "    else:\n",
    "        output = fibonacci(n-1) + fibonacci(n-2)\n",
    "        dictionary[n] = output\n",
    "        return output\n",
    "\n",
    "print(\"fibonacci(10):\", fibonacci(10))\n",
    "print(\"fibonacci(20):\", fibonacci(20))\n",
    "print(\"fibonacci(30):\", fibonacci(30))\n",
    "print(\"fibonacci(40):\", fibonacci(40))\n",
    "print(\"fibonacci(50):\", fibonacci(50))\n"
   ]
  }
 ],
 "metadata": {
  "kernelspec": {
   "display_name": "Python 3",
   "language": "python",
   "name": "python3"
  },
  "language_info": {
   "codemirror_mode": {
    "name": "ipython",
    "version": 3
   },
   "file_extension": ".py",
   "mimetype": "text/x-python",
   "name": "python",
   "nbconvert_exporter": "python",
   "pygments_lexer": "ipython3",
   "version": "3.11.0"
  },
  "orig_nbformat": 4
 },
 "nbformat": 4,
 "nbformat_minor": 2
}
