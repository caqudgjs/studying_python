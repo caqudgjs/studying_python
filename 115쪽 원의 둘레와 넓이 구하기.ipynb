{
 "cells": [
  {
   "cell_type": "code",
   "execution_count": 1,
   "metadata": {},
   "outputs": [
    {
     "name": "stdout",
     "output_type": "stream",
     "text": [
      "원주율= 3.14159265\n",
      "반지름= 10\n",
      "원의 둘레= 62.831853\n",
      "원의 넓이= 314.159265\n"
     ]
    }
   ],
   "source": [
    "#변수 선언과 할당\n",
    "pi=3.14159265\n",
    "r=10\n",
    "\n",
    "#변수 참조\n",
    "print(\"원주율=\", pi)\n",
    "print(\"반지름=\", r)\n",
    "print(\"원의 둘레=\", 2*pi*r)\n",
    "print(\"원의 넓이=\", pi*r*r)\n"
   ]
  },
  {
   "cell_type": "code",
   "execution_count": null,
   "metadata": {},
   "outputs": [],
   "source": []
  }
 ],
 "metadata": {
  "kernelspec": {
   "display_name": "Python 3",
   "language": "python",
   "name": "python3"
  },
  "language_info": {
   "codemirror_mode": {
    "name": "ipython",
    "version": 3
   },
   "file_extension": ".py",
   "mimetype": "text/x-python",
   "name": "python",
   "nbconvert_exporter": "python",
   "pygments_lexer": "ipython3",
   "version": "3.11.0"
  },
  "orig_nbformat": 4
 },
 "nbformat": 4,
 "nbformat_minor": 2
}
