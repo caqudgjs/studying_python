{
 "cells": [
  {
   "cell_type": "code",
   "execution_count": 2,
   "metadata": {},
   "outputs": [
    {
     "name": "stdout",
     "output_type": "stream",
     "text": [
      "#리스트의 요소하나 제거하기\n",
      "del a_list[1]: [0, 2, 3, 4, 5]\n",
      "pop(2): [0, 2, 4, 5]\n"
     ]
    }
   ],
   "source": [
    "list_a = [0, 1, 2, 3, 4, 5]\n",
    "print(\"#리스트의 요소하나 제거하기\")\n",
    "\n",
    "# 제거 방법[1] - del\n",
    "del list_a[1]\n",
    "print(\"del a_list[1]:\", list_a)\n",
    "\n",
    "# 제거 방법[2] - pop()\n",
    "list_a.pop(2)\n",
    "print(\"pop(2):\", list_a)\n",
    "\n"
   ]
  }
 ],
 "metadata": {
  "kernelspec": {
   "display_name": "Python 3",
   "language": "python",
   "name": "python3"
  },
  "language_info": {
   "codemirror_mode": {
    "name": "ipython",
    "version": 3
   },
   "file_extension": ".py",
   "mimetype": "text/x-python",
   "name": "python",
   "nbconvert_exporter": "python",
   "pygments_lexer": "ipython3",
   "version": "3.11.0"
  },
  "orig_nbformat": 4
 },
 "nbformat": 4,
 "nbformat_minor": 2
}
