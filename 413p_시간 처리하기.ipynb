{
 "cells": [
  {
   "cell_type": "code",
   "execution_count": 1,
   "metadata": {},
   "outputs": [
    {
     "name": "stdout",
     "output_type": "stream",
     "text": [
      "#datetime.timedelta로 시간 더하기\n",
      "2023년 06월 12일 17시 53분 19초\n",
      "\n",
      "#now.replace()로 1년 더하기\n",
      "2024년 06월 04일 16시 52분 18초\n"
     ]
    }
   ],
   "source": [
    "import datetime\n",
    "now = datetime.datetime.now()\n",
    "\n",
    "print(\"#datetime.timedelta로 시간 더하기\")\n",
    "after = now + datetime.timedelta(\\\n",
    "    weeks=1, days=1, hours=1, minutes=1, seconds=1)\n",
    "print(after.strftime(\"%Y{} %m{} %d{} %H{} %M{} %S{}\").format(*\"년월일시분초\"))\n",
    "print()\n",
    "\n",
    "print(\"#now.replace()로 1년 더하기\")\n",
    "output = now.replace(year=(now.year + 1))\n",
    "print(output.strftime(\"%Y{} %m{} %d{} %H{} %M{} %S{}\").format(*\"년월일시분초\"))"
   ]
  }
 ],
 "metadata": {
  "kernelspec": {
   "display_name": "Python 3",
   "language": "python",
   "name": "python3"
  },
  "language_info": {
   "codemirror_mode": {
    "name": "ipython",
    "version": 3
   },
   "file_extension": ".py",
   "mimetype": "text/x-python",
   "name": "python",
   "nbconvert_exporter": "python",
   "pygments_lexer": "ipython3",
   "version": "3.11.0"
  },
  "orig_nbformat": 4
 },
 "nbformat": 4,
 "nbformat_minor": 2
}
